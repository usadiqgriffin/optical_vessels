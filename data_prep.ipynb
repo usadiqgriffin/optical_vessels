{
 "cells": [
  {
   "cell_type": "code",
   "execution_count": 10,
   "metadata": {},
   "outputs": [],
   "source": [
    "from glob import glob\n",
    "import random\n",
    "import pandas as pd\n",
    "\n",
    "pd.set_option('display.max_rows', 500)\n",
    "pd.set_option('display.max_columns', 500)\n",
    "pd.set_option('display.width', 1000)\n",
    "pd.set_option('max_colwidth', 800)\n",
    "\n",
    "data_dir = \"data/diabetic-retinopathy-dataset/resized\"\n",
    "\n",
    "n_dev = 1000\n",
    "n_test = 300\n",
    "n_train = int(n_dev * 0.7)\n",
    "dev_paths_list = glob(data_dir + \"/train/*t.jpeg\")\n",
    "test_paths_list = glob(data_dir + \"/test/*t.jpeg\")\n",
    "\n",
    "random.Random(4).shuffle(dev_paths_list)\n",
    "random.Random(4).shuffle(test_paths_list)\n",
    "\n",
    "train_paths_list = dev_paths_list[:n_train]\n",
    "valid_paths_list = dev_paths_list[n_train:n_dev]\n",
    "test_paths_list = test_paths_list[:n_test]"
   ]
  },
  {
   "cell_type": "code",
   "execution_count": 11,
   "metadata": {},
   "outputs": [
    {
     "name": "stdout",
     "output_type": "stream",
     "text": [
      "Data sizes, Train:700, Valid:300, Test:300\n"
     ]
    }
   ],
   "source": [
    "print(f\"Data sizes, Train:{len(train_paths_list)}, Valid:{len(valid_paths_list)}, Test:{len(test_paths_list)}\")"
   ]
  },
  {
   "cell_type": "code",
   "execution_count": 12,
   "metadata": {},
   "outputs": [],
   "source": [
    "df_train = pd.DataFrame({'image_path':train_paths_list})\n",
    "df_valid = pd.DataFrame({'image_path':valid_paths_list})\n",
    "df_test = pd.DataFrame({'image_path':test_paths_list})\n"
   ]
  },
  {
   "cell_type": "code",
   "execution_count": 4,
   "metadata": {},
   "outputs": [
    {
     "name": "stdout",
     "output_type": "stream",
     "text": [
      "data/diabetic-retinopathy-dataset/resized/train/19266_right.jpeg\n",
      "data/diabetic-retinopathy-dataset/resized/train/29789_left.jpeg\n",
      "data/diabetic-retinopathy-dataset/resized/train/26308_left.jpeg\n",
      "data/diabetic-retinopathy-dataset/resized/train/26486_right.jpeg\n",
      "data/diabetic-retinopathy-dataset/resized/train/30233_left.jpeg\n",
      "data/diabetic-retinopathy-dataset/resized/train/19753_left.jpeg\n",
      "data/diabetic-retinopathy-dataset/resized/train/16013_right.jpeg\n",
      "data/diabetic-retinopathy-dataset/resized/train/15595_left.jpeg\n",
      "data/diabetic-retinopathy-dataset/resized/train/25222_right.jpeg\n",
      "data/diabetic-retinopathy-dataset/resized/train/12139_left.jpeg\n",
      "data/diabetic-retinopathy-dataset/resized/test/1053_right.jpeg\n",
      "data/diabetic-retinopathy-dataset/resized/test/13034_left.jpeg\n",
      "data/diabetic-retinopathy-dataset/resized/test/15212_left.jpeg\n",
      "data/diabetic-retinopathy-dataset/resized/test/21036_left.jpeg\n",
      "data/diabetic-retinopathy-dataset/resized/test/11806_right.jpeg\n"
     ]
    }
   ],
   "source": [
    "print(\"\\n\".join(train_paths_list[:5]))\n",
    "print(\"\\n\".join(valid_paths_list[:5]))\n",
    "print(\"\\n\".join(test_paths_list[:5]))"
   ]
  },
  {
   "cell_type": "code",
   "execution_count": 13,
   "metadata": {},
   "outputs": [
    {
     "data": {
      "text/html": [
       "<div>\n",
       "<style scoped>\n",
       "    .dataframe tbody tr th:only-of-type {\n",
       "        vertical-align: middle;\n",
       "    }\n",
       "\n",
       "    .dataframe tbody tr th {\n",
       "        vertical-align: top;\n",
       "    }\n",
       "\n",
       "    .dataframe thead th {\n",
       "        text-align: right;\n",
       "    }\n",
       "</style>\n",
       "<table border=\"1\" class=\"dataframe\">\n",
       "  <thead>\n",
       "    <tr style=\"text-align: right;\">\n",
       "      <th></th>\n",
       "      <th>image_path</th>\n",
       "    </tr>\n",
       "  </thead>\n",
       "  <tbody>\n",
       "    <tr>\n",
       "      <th>0</th>\n",
       "      <td>data/diabetic-retinopathy-dataset/resized/train/19266_right.jpeg</td>\n",
       "    </tr>\n",
       "    <tr>\n",
       "      <th>1</th>\n",
       "      <td>data/diabetic-retinopathy-dataset/resized/train/29789_left.jpeg</td>\n",
       "    </tr>\n",
       "    <tr>\n",
       "      <th>2</th>\n",
       "      <td>data/diabetic-retinopathy-dataset/resized/train/26308_left.jpeg</td>\n",
       "    </tr>\n",
       "    <tr>\n",
       "      <th>3</th>\n",
       "      <td>data/diabetic-retinopathy-dataset/resized/train/26486_right.jpeg</td>\n",
       "    </tr>\n",
       "    <tr>\n",
       "      <th>4</th>\n",
       "      <td>data/diabetic-retinopathy-dataset/resized/train/30233_left.jpeg</td>\n",
       "    </tr>\n",
       "  </tbody>\n",
       "</table>\n",
       "</div>"
      ],
      "text/plain": [
       "                                                         image_path\n",
       "0  data/diabetic-retinopathy-dataset/resized/train/19266_right.jpeg\n",
       "1   data/diabetic-retinopathy-dataset/resized/train/29789_left.jpeg\n",
       "2   data/diabetic-retinopathy-dataset/resized/train/26308_left.jpeg\n",
       "3  data/diabetic-retinopathy-dataset/resized/train/26486_right.jpeg\n",
       "4   data/diabetic-retinopathy-dataset/resized/train/30233_left.jpeg"
      ]
     },
     "metadata": {},
     "output_type": "display_data"
    }
   ],
   "source": [
    "display(df_train[:5])"
   ]
  },
  {
   "cell_type": "code",
   "execution_count": 14,
   "metadata": {},
   "outputs": [],
   "source": [
    "df_train.to_csv(\"data/train.csv\")\n",
    "df_valid.to_csv(\"data/valid.csv\")\n",
    "df_test.to_csv(\"data/test.csv\")"
   ]
  }
 ],
 "metadata": {
  "kernelspec": {
   "display_name": "cloudspace",
   "language": "python",
   "name": "python3"
  },
  "language_info": {
   "codemirror_mode": {
    "name": "ipython",
    "version": 3
   },
   "file_extension": ".py",
   "mimetype": "text/x-python",
   "name": "python",
   "nbconvert_exporter": "python",
   "pygments_lexer": "ipython3",
   "version": "3.10.13"
  }
 },
 "nbformat": 4,
 "nbformat_minor": 2
}
